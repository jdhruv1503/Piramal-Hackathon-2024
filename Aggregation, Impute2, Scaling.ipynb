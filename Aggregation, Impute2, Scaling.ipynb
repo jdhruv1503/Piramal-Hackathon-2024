{
 "cells": [
  {
   "cell_type": "code",
   "execution_count": 2,
   "metadata": {},
   "outputs": [],
   "source": [
    "import pandas as pd\n",
    "\n",
    "# Load the datasets\n",
    "train_1 = pd.read_pickle('train_1_imputed.bin')\n",
    "train_2_1 = pd.read_pickle('train_2_1_imputed.bin')\n",
    "train_2_2 = pd.read_pickle('train_2_2_imputed.bin')"
   ]
  },
  {
   "cell_type": "code",
   "execution_count": 17,
   "metadata": {},
   "outputs": [],
   "source": [
    "test = pd.read_pickle('test_1_imputed.bin')\n",
    "labels = pd.read_csv('test_labels.csv')"
   ]
  },
  {
   "cell_type": "code",
   "execution_count": null,
   "metadata": {},
   "outputs": [],
   "source": [
    "train_1"
   ]
  },
  {
   "cell_type": "code",
   "execution_count": 19,
   "metadata": {},
   "outputs": [],
   "source": [
    "test = test.merge(labels, left_on='loan_id', right_on='loan_id')"
   ]
  },
  {
   "cell_type": "code",
   "execution_count": null,
   "metadata": {},
   "outputs": [],
   "source": [
    "test"
   ]
  },
  {
   "cell_type": "code",
   "execution_count": 22,
   "metadata": {},
   "outputs": [],
   "source": [
    "train_1 = pd.concat([train_1, test], axis=0)"
   ]
  },
  {
   "cell_type": "code",
   "execution_count": null,
   "metadata": {},
   "outputs": [],
   "source": [
    "train_1"
   ]
  },
  {
   "cell_type": "code",
   "execution_count": 24,
   "metadata": {},
   "outputs": [],
   "source": [
    "\n",
    "# Step 1: Aggregate train_2_1 at 'id' level\n",
    "adict = {col: ['mean', 'sum', 'max', 'min'] for col in train_2_1.columns if col not in ['id', 'add_431']}\n",
    "agg_train_2_1 = train_2_1.groupby('id').agg(\n",
    "    adict\n",
    ").reset_index()\n",
    "\n",
    "# Flatten column names after aggregation\n",
    "agg_train_2_1.columns = ['_'.join(col).strip('_') for col in agg_train_2_1.columns]\n",
    "\n",
    "adict = {col: ['mean', 'sum', 'max', 'min'] for col in train_2_2.columns if col not in ['id', 'add_431']}\n",
    "agg_train_2_2 = train_2_2.groupby('id').agg(\n",
    "    adict\n",
    ").reset_index()\n",
    "\n",
    "# Flatten column names after aggregation\n",
    "agg_train_2_2.columns = ['t2_'+'_'.join(col).strip('_') for col in agg_train_2_2.columns]\n",
    "agg_train_2_2.rename(columns={'t2_id': 'id'}, inplace=True)"
   ]
  },
  {
   "cell_type": "markdown",
   "metadata": {},
   "source": []
  },
  {
   "cell_type": "code",
   "execution_count": null,
   "metadata": {},
   "outputs": [],
   "source": [
    "agg_train_2_2"
   ]
  },
  {
   "cell_type": "code",
   "execution_count": 26,
   "metadata": {},
   "outputs": [],
   "source": [
    "train_1 = train_1.merge(agg_train_2_1, on='id', how='left')\n",
    "train_1 = train_1.merge(agg_train_2_2, on='id', how='left')"
   ]
  },
  {
   "cell_type": "code",
   "execution_count": null,
   "metadata": {},
   "outputs": [],
   "source": [
    "train_1"
   ]
  },
  {
   "cell_type": "code",
   "execution_count": null,
   "metadata": {},
   "outputs": [],
   "source": [
    "def drop_high_nan_columns(df, threshold=0.8):\n",
    "    # Calculate the threshold for dropping columns\n",
    "    threshold_count = len(df) * threshold\n",
    "    # Drop columns with more than the threshold percentage of NaN values\n",
    "    return df.dropna(axis=1, thresh=threshold_count)\n",
    "\n",
    "# Apply the function to each DataFrame\n",
    "train_1 = drop_high_nan_columns(train_1)\n",
    "\n",
    "print(train_1.shape)\n",
    "\n",
    "def drop_all_zero_columns(df):\n",
    "    return df.loc[:, (df != 0).any(axis=0)]\n",
    "\n",
    "# Apply the function to each DataFrame\n",
    "train_1 = drop_all_zero_columns(train_1)\n",
    "\n",
    "print(train_1.shape)"
   ]
  },
  {
   "cell_type": "code",
   "execution_count": 29,
   "metadata": {},
   "outputs": [],
   "source": [
    "import pandas as pd\n",
    "import numpy as np\n",
    "from sklearn.experimental import enable_iterative_imputer  # Needed to enable IterativeImputer\n",
    "from sklearn.impute import IterativeImputer, SimpleImputer\n",
    "from sklearn.preprocessing import OrdinalEncoder\n",
    "import pickle\n",
    "\n",
    "def impute_numeric_categorical(data, max_iter=10, random_state=0):\n",
    "    # Step 1: Separate numerical, categorical, and object columns\n",
    "    num_cols = data.select_dtypes(include=['number']).columns\n",
    "    cat_cols = data.select_dtypes(include=['category']).columns\n",
    "\n",
    "    imputer_num = SimpleImputer(strategy='mean')\n",
    "    encoder = OrdinalEncoder(handle_unknown='use_encoded_value', unknown_value=-1)\n",
    "    imputer_cat = SimpleImputer(strategy='most_frequent')\n",
    "\n",
    "    # Step 2: Impute numerical columns with IterativeImputer\n",
    "    if len(num_cols) > 0:\n",
    "        num_data = data[num_cols]\n",
    "        imputed_num_data = imputer_num.fit_transform(num_data)\n",
    "        data[num_cols] = imputed_num_data\n",
    "\n",
    "    # Step 3: Impute categorical columns with SimpleImputer (most frequent strategy)\n",
    "    if len(cat_cols) > 0:\n",
    "        # Encode categorical columns temporarily using OrdinalEncoder\n",
    "        encoded_cat_data = encoder.fit_transform(data[cat_cols])\n",
    "\n",
    "        # Impute encoded categorical columns with SimpleImputer\n",
    "        imputed_cat_data = imputer_cat.fit_transform(encoded_cat_data)\n",
    "\n",
    "        # Convert back to original categories using the encoder\n",
    "        imputed_cat_data = encoder.inverse_transform(imputed_cat_data)\n",
    "        data[cat_cols] = imputed_cat_data\n",
    "\n",
    "    # Object columns remain unchanged\n",
    "    imputers = {'numerical': imputer_num, 'categorical': imputer_cat, 'encoder': encoder}\n",
    "    return data, imputers\n",
    "\n",
    "\n",
    "# Apply imputation to numerical and categorical columns only\n",
    "imputed_data, imputers_train_1 = impute_numeric_categorical(train_1, max_iter=8)\n",
    "\n",
    "imputed_data.to_pickle('train_1_agg_imputed.bin')\n",
    "\n",
    "with open('imputers2.pkl', 'wb') as f:\n",
    "    pickle.dump(imputers_train_1, f)"
   ]
  },
  {
   "cell_type": "code",
   "execution_count": 30,
   "metadata": {},
   "outputs": [],
   "source": [
    "X  = imputed_data.drop(columns=['id', 'label', 'loan_id'])\n",
    "y = imputed_data['label']"
   ]
  },
  {
   "cell_type": "code",
   "execution_count": null,
   "metadata": {},
   "outputs": [],
   "source": [
    "X"
   ]
  },
  {
   "cell_type": "code",
   "execution_count": 32,
   "metadata": {},
   "outputs": [],
   "source": [
    "import pandas as pd\n",
    "from sklearn.model_selection import train_test_split\n",
    "from sklearn.preprocessing import OneHotEncoder, StandardScaler\n",
    "\n",
    "def preprocess_data(df):\n",
    "    # Step 1: Detect categorical and numerical columns\n",
    "    cat_cols = df.select_dtypes(include=['object', 'category']).columns\n",
    "    num_cols = df.select_dtypes(include=['int64', 'float64']).columns\n",
    "\n",
    "    scaler = StandardScaler()\n",
    "    ohe = OneHotEncoder(sparse_output=False, handle_unknown='ignore')\n",
    "\n",
    "    # Step 2: One-Hot Encode categorical columns\n",
    "    if len(cat_cols) > 0:\n",
    "        encoded_cat_data = ohe.fit_transform(df[cat_cols])\n",
    "        encoded_cat_df = pd.DataFrame(encoded_cat_data, columns=ohe.get_feature_names_out(cat_cols), index=df.index)\n",
    "    else:\n",
    "        encoded_cat_df = pd.DataFrame(index=df.index)  # Empty DataFrame if no categorical columns\n",
    "\n",
    "    # Step 3: Standard Scale numerical columns\n",
    "    if len(num_cols) > 0:\n",
    "        scaled_num_data = scaler.fit_transform(df[num_cols])\n",
    "        scaled_num_df = pd.DataFrame(scaled_num_data, columns=num_cols, index=df.index)\n",
    "    else:\n",
    "        scaled_num_df = pd.DataFrame(index=df.index)  # Empty DataFrame if no numerical columns\n",
    "\n",
    "    # Step 4: Concatenate the processed categorical and numerical data\n",
    "    X = pd.concat([scaled_num_df, encoded_cat_df], axis=1)\n",
    "\n",
    "    return X, scaler, ohe\n",
    "\n",
    "# Preprocess the data and split into X and y\n",
    "X, scaler, ohe = preprocess_data(X)\n"
   ]
  },
  {
   "cell_type": "code",
   "execution_count": null,
   "metadata": {},
   "outputs": [],
   "source": [
    "X"
   ]
  },
  {
   "cell_type": "code",
   "execution_count": 34,
   "metadata": {},
   "outputs": [],
   "source": [
    "with open('scaler.pkl', 'wb') as f:\n",
    "    pickle.dump(scaler, f)\n",
    "\n",
    "with open('ohe.pkl', 'wb') as f:\n",
    "    pickle.dump(ohe, f)"
   ]
  },
  {
   "cell_type": "code",
   "execution_count": 35,
   "metadata": {},
   "outputs": [],
   "source": [
    "with open(\"X_train.pkl\", \"wb\") as f:\n",
    "    pickle.dump(X, f)\n",
    "\n",
    "with open(\"y_train.pkl\", \"wb\") as f:\n",
    "    pickle.dump(y, f)"
   ]
  },
  {
   "cell_type": "code",
   "execution_count": null,
   "metadata": {},
   "outputs": [],
   "source": []
  }
 ],
 "metadata": {
  "kernelspec": {
   "display_name": "Python 3",
   "language": "python",
   "name": "python3"
  },
  "language_info": {
   "codemirror_mode": {
    "name": "ipython",
    "version": 3
   },
   "file_extension": ".py",
   "mimetype": "text/x-python",
   "name": "python",
   "nbconvert_exporter": "python",
   "pygments_lexer": "ipython3",
   "version": "3.9.18"
  }
 },
 "nbformat": 4,
 "nbformat_minor": 2
}
