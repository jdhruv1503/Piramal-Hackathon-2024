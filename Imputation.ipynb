{
 "cells": [
  {
   "cell_type": "code",
   "execution_count": 1,
   "metadata": {},
   "outputs": [],
   "source": [
    "import pandas as pd"
   ]
  },
  {
   "cell_type": "code",
   "execution_count": 2,
   "metadata": {},
   "outputs": [],
   "source": [
    "train_1 = pd.read_pickle('train_1_proc.bin')\n",
    "train_2_1 = pd.read_pickle('train_2_1_proc.bin')\n",
    "train_2_2 = pd.read_pickle('train_2_2_proc.bin')"
   ]
  },
  {
   "cell_type": "code",
   "execution_count": null,
   "metadata": {},
   "outputs": [],
   "source": [
    "def drop_high_nan_columns(df, threshold=0.8):\n",
    "    # Calculate the threshold for dropping columns\n",
    "    threshold_count = len(df) * threshold\n",
    "    # Drop columns with more than the threshold percentage of NaN values\n",
    "    return df.dropna(axis=1, thresh=threshold_count)\n",
    "\n",
    "# Apply the function to each DataFrame\n",
    "train_1 = drop_high_nan_columns(train_1)\n",
    "train_2_1 = drop_high_nan_columns(train_2_1)\n",
    "train_2_2 = drop_high_nan_columns(train_2_2)\n",
    "\n",
    "print(train_2_1.shape)"
   ]
  },
  {
   "cell_type": "code",
   "execution_count": null,
   "metadata": {},
   "outputs": [],
   "source": [
    "def drop_all_zero_columns(df):\n",
    "    return df.loc[:, (df != 0).any(axis=0)]\n",
    "\n",
    "# Apply the function to each DataFrame\n",
    "train_1 = drop_all_zero_columns(train_1)\n",
    "train_2_1 = drop_all_zero_columns(train_2_1)\n",
    "train_2_2 = drop_all_zero_columns(train_2_2)\n",
    "\n",
    "print(train_2_1.shape)"
   ]
  },
  {
   "cell_type": "code",
   "execution_count": 5,
   "metadata": {},
   "outputs": [],
   "source": [
    "import pandas as pd\n",
    "import numpy as np\n",
    "from sklearn.experimental import enable_iterative_imputer  # Needed to enable IterativeImputer\n",
    "from sklearn.impute import IterativeImputer, SimpleImputer\n",
    "from sklearn.preprocessing import OrdinalEncoder\n",
    "import pickle\n",
    "\n",
    "def impute_numeric_categorical(data, max_iter=10, random_state=0):\n",
    "    # Step 1: Separate numerical, categorical, and object columns\n",
    "    num_cols = data.select_dtypes(include=['number']).columns\n",
    "    cat_cols = data.select_dtypes(include=['category']).columns\n",
    "\n",
    "    imputer_num = SimpleImputer(strategy='mean')\n",
    "    encoder = OrdinalEncoder(handle_unknown='use_encoded_value', unknown_value=-1)\n",
    "    imputer_cat = SimpleImputer(strategy='most_frequent')\n",
    "\n",
    "    # Step 2: Impute numerical columns with IterativeImputer\n",
    "    if len(num_cols) > 0:\n",
    "        num_data = data[num_cols]\n",
    "        imputed_num_data = imputer_num.fit_transform(num_data)\n",
    "        data[num_cols] = imputed_num_data\n",
    "\n",
    "    # Step 3: Impute categorical columns with SimpleImputer (most frequent strategy)\n",
    "    if len(cat_cols) > 0:\n",
    "        # Encode categorical columns temporarily using OrdinalEncoder\n",
    "        encoded_cat_data = encoder.fit_transform(data[cat_cols])\n",
    "\n",
    "        # Impute encoded categorical columns with SimpleImputer\n",
    "        imputed_cat_data = imputer_cat.fit_transform(encoded_cat_data)\n",
    "\n",
    "        # Convert back to original categories using the encoder\n",
    "        imputed_cat_data = encoder.inverse_transform(imputed_cat_data)\n",
    "        data[cat_cols] = imputed_cat_data\n",
    "\n",
    "    # Object columns remain unchanged\n",
    "    imputers = {'numerical': imputer_num, 'categorical': imputer_cat, 'encoder': encoder}\n",
    "    return data, imputers\n",
    "\n",
    "\n",
    "# Apply imputation to numerical and categorical columns only\n",
    "imputers = {}\n",
    "imputed_data, imputers_train_1 = impute_numeric_categorical(train_1, max_iter=8)\n",
    "imputers['train_1'] = imputers_train_1\n",
    "\n",
    "imputed_data.to_pickle('train_1_imputed.bin')\n",
    "\n",
    "imputed_data, imputers_train_2_1 = impute_numeric_categorical(train_2_1, max_iter=8)\n",
    "imputers['train_2_1'] = imputers_train_2_1\n",
    "\n",
    "imputed_data.to_pickle('train_2_1_imputed.bin')\n",
    "\n",
    "imputed_data, imputers_train_2_2 = impute_numeric_categorical(train_2_2, max_iter=8)\n",
    "imputers['train_2_2'] = imputers_train_2_2\n",
    "\n",
    "imputed_data.to_pickle('train_2_2_imputed.bin')\n",
    "\n",
    "with open('imputers.pkl', 'wb') as f:\n",
    "    pickle.dump(imputers, f)"
   ]
  },
  {
   "cell_type": "code",
   "execution_count": null,
   "metadata": {},
   "outputs": [],
   "source": [
    "imputed_data"
   ]
  }
 ],
 "metadata": {
  "kernelspec": {
   "display_name": "Python 3",
   "language": "python",
   "name": "python3"
  },
  "language_info": {
   "codemirror_mode": {
    "name": "ipython",
    "version": 3
   },
   "file_extension": ".py",
   "mimetype": "text/x-python",
   "name": "python",
   "nbconvert_exporter": "python",
   "pygments_lexer": "ipython3",
   "version": "3.12.2"
  }
 },
 "nbformat": 4,
 "nbformat_minor": 2
}
