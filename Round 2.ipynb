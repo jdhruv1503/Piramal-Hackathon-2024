{
 "cells": [
  {
   "cell_type": "markdown",
   "metadata": {},
   "source": [
    "# Feature names"
   ]
  },
  {
   "cell_type": "code",
   "execution_count": 17,
   "metadata": {},
   "outputs": [],
   "source": [
    "import pandas as pd"
   ]
  },
  {
   "cell_type": "code",
   "execution_count": 18,
   "metadata": {},
   "outputs": [],
   "source": [
    "test = pd.read_pickle('test_1_agg_imputed.bin')\n",
    "train = pd.read_pickle('train_1_agg_imputed.bin')"
   ]
  },
  {
   "cell_type": "code",
   "execution_count": null,
   "metadata": {},
   "outputs": [],
   "source": []
  },
  {
   "cell_type": "code",
   "execution_count": 20,
   "metadata": {},
   "outputs": [],
   "source": [
    "map = pd.read_csv('column_mapping.csv')"
   ]
  },
  {
   "cell_type": "code",
   "execution_count": null,
   "metadata": {},
   "outputs": [],
   "source": [
    "map"
   ]
  },
  {
   "cell_type": "code",
   "execution_count": 22,
   "metadata": {},
   "outputs": [],
   "source": [
    "dic = map.set_index('Masked Column')['Original Column'].to_dict()"
   ]
  },
  {
   "cell_type": "markdown",
   "metadata": {},
   "source": [
    "# Product wise stability test"
   ]
  },
  {
   "cell_type": "code",
   "execution_count": null,
   "metadata": {},
   "outputs": [],
   "source": [
    "! uv pip install xgboost scikit-learn lightgbm catboost"
   ]
  },
  {
   "cell_type": "code",
   "execution_count": 4,
   "metadata": {},
   "outputs": [],
   "source": [
    "import pickle\n",
    "import pandas as pd"
   ]
  },
  {
   "cell_type": "code",
   "execution_count": 5,
   "metadata": {},
   "outputs": [],
   "source": [
    "imputed_data = pd.read_pickle('test_1_agg_imputed.bin')\n",
    "X  = imputed_data.drop(columns=['id', 'loan_id'])\n",
    "labels = imputed_data['loan_id']"
   ]
  },
  {
   "cell_type": "code",
   "execution_count": null,
   "metadata": {},
   "outputs": [],
   "source": [
    "with open(\"xgb_model.pkl\", \"rb\") as f:\n",
    "    model = pickle.load(f)\n",
    "\n",
    "with open(\"lgbm_model.pkl\", \"rb\") as f:\n",
    "    model2 = pickle.load(f)\n",
    "\n",
    "with open(\"catboost_model.pkl\", \"rb\") as f:\n",
    "    model3 = pickle.load(f)\n",
    "\n",
    "with open(\"final_calibrated_model.pkl\", \"rb\") as f:\n",
    "    metamodel = pickle.load(f)\n",
    "\n",
    "with open(\"X_test.pkl\", \"rb\") as f:\n",
    "    X = pickle.load(f)\n",
    "\n",
    "from sklearn.metrics import roc_auc_score\n",
    "\n",
    "# Step 1: Predict the probabilities\n",
    "y_pred = model.predict(X)\n",
    "y_pred2 = model2.predict(X)\n",
    "y_pred3 = model3.predict(X)\n",
    "\n",
    "pred_df = pd.DataFrame({\n",
    "    'XGB_Preds': y_pred,\n",
    "    'LGBM_Preds': y_pred2,\n",
    "    'CatBoost_Preds': y_pred3\n",
    "})\n",
    "\n",
    "# Step 2: Meta-model prediction\n",
    "final_preds = metamodel.predict_proba(pred_df)[:, 1]"
   ]
  },
  {
   "cell_type": "code",
   "execution_count": null,
   "metadata": {},
   "outputs": [],
   "source": [
    "final_preds"
   ]
  },
  {
   "cell_type": "code",
   "execution_count": null,
   "metadata": {},
   "outputs": [],
   "source": [
    "labels"
   ]
  },
  {
   "cell_type": "code",
   "execution_count": 9,
   "metadata": {},
   "outputs": [],
   "source": [
    "results = pd.DataFrame({\n",
    "    'Predictions': final_preds,\n",
    "    'ID': labels\n",
    "})\n",
    "\n"
   ]
  },
  {
   "cell_type": "code",
   "execution_count": null,
   "metadata": {},
   "outputs": [],
   "source": [
    "results"
   ]
  },
  {
   "cell_type": "code",
   "execution_count": 11,
   "metadata": {},
   "outputs": [],
   "source": [
    "classes = pd.read_csv('test_labels.csv')"
   ]
  },
  {
   "cell_type": "code",
   "execution_count": null,
   "metadata": {},
   "outputs": [],
   "source": [
    "classes"
   ]
  },
  {
   "cell_type": "code",
   "execution_count": 13,
   "metadata": {},
   "outputs": [],
   "source": [
    "final = pd.merge(imputed_data, results, left_on='loan_id', right_on='ID')"
   ]
  },
  {
   "cell_type": "code",
   "execution_count": 16,
   "metadata": {},
   "outputs": [],
   "source": [
    "labels = pd.read_csv(\"test_labels.csv\")\n",
    "final = pd.merge(final, labels, left_on='loan_id', right_on='loan_id')"
   ]
  },
  {
   "cell_type": "code",
   "execution_count": null,
   "metadata": {},
   "outputs": [],
   "source": [
    "final"
   ]
  },
  {
   "cell_type": "code",
   "execution_count": 18,
   "metadata": {},
   "outputs": [],
   "source": [
    "final['label'] = final['label'].astype(int)"
   ]
  },
  {
   "cell_type": "code",
   "execution_count": null,
   "metadata": {},
   "outputs": [],
   "source": [
    "from sklearn.metrics import roc_auc_score\n",
    "from scipy.stats import ks_2samp\n",
    "\n",
    "roc_auc = roc_auc_score(final['label'], final['Predictions'])\n",
    "ks_stat, ks_p = ks_2samp(final.loc[final['label'] == 0, 'Predictions'], final.loc[final['label'] == 1, 'Predictions'])\n",
    "\n",
    "print(f\"ROC AUC Score: {roc_auc}\")\n",
    "print(f\"KS Statistic: {ks_stat}, p-value: {ks_p}\")\n"
   ]
  },
  {
   "cell_type": "markdown",
   "metadata": {},
   "source": [
    "# Product wise breakdown"
   ]
  },
  {
   "cell_type": "code",
   "execution_count": null,
   "metadata": {},
   "outputs": [],
   "source": [
    "final"
   ]
  },
  {
   "cell_type": "code",
   "execution_count": 22,
   "metadata": {},
   "outputs": [],
   "source": [
    "products = final['prod'].unique()"
   ]
  },
  {
   "cell_type": "code",
   "execution_count": 23,
   "metadata": {},
   "outputs": [],
   "source": [
    "afinal = final.copy()"
   ]
  },
  {
   "cell_type": "code",
   "execution_count": null,
   "metadata": {},
   "outputs": [],
   "source": [
    "for pr in products:\n",
    "    final = afinal[afinal['prod'] == pr]\n",
    "    roc_auc = roc_auc_score(final['label'], final['Predictions'])\n",
    "    ks_stat, ks_p = ks_2samp(final.loc[final['label'] == 0, 'Predictions'], final.loc[final['label'] == 1, 'Predictions'])\n",
    "\n",
    "    print(f\"Product\",pr)\n",
    "\n",
    "    print(f\"ROC AUC Score: {roc_auc}\")\n",
    "    print(f\"KS Statistic: {ks_stat}, p-value: {ks_p}\")\n",
    "    print(\"-----\\n\")\n"
   ]
  },
  {
   "cell_type": "code",
   "execution_count": null,
   "metadata": {},
   "outputs": [],
   "source": []
  },
  {
   "cell_type": "code",
   "execution_count": null,
   "metadata": {},
   "outputs": [],
   "source": []
  }
 ],
 "metadata": {
  "kernelspec": {
   "display_name": "venv",
   "language": "python",
   "name": "python3"
  },
  "language_info": {
   "codemirror_mode": {
    "name": "ipython",
    "version": 3
   },
   "file_extension": ".py",
   "mimetype": "text/x-python",
   "name": "python",
   "nbconvert_exporter": "python",
   "pygments_lexer": "ipython3",
   "version": "3.9.18"
  }
 },
 "nbformat": 4,
 "nbformat_minor": 2
}
